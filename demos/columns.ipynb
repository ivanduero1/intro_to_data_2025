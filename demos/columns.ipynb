{
 "cells": [
  {
   "cell_type": "code",
   "execution_count": 1,
   "id": "224aef4b",
   "metadata": {
    "trusted": false
   },
   "outputs": [],
   "source": [
    "from datascience import *\n",
    "import numpy as np\n",
    "\n",
    "%matplotlib inline\n",
    "import matplotlib.pyplot as plots\n",
    "plots.style.use('fivethirtyeight')"
   ]
  },
  {
   "cell_type": "markdown",
   "id": "d3792c3a",
   "metadata": {},
   "source": [
    "## Columns of Tables are Arrays ##"
   ]
  },
  {
   "cell_type": "code",
   "execution_count": 19,
   "id": "4abb19b9",
   "metadata": {
    "trusted": false
   },
   "outputs": [],
   "source": [
    "nba = Table.read_table('nba_salaries.csv').relabeled(4, 'SALARY')\n",
    "warriors = nba.where('team', 'Golden State Warriors')"
   ]
  },
  {
   "cell_type": "code",
   "execution_count": 3,
   "id": "70b279de",
   "metadata": {
    "trusted": false
   },
   "outputs": [
    {
     "data": {
      "text/html": [
       "<table border=\"1\" class=\"dataframe\">\n",
       "    <thead>\n",
       "        <tr>\n",
       "            <th>rank</th> <th>name</th> <th>position</th> <th>team</th> <th>SALARY</th> <th>season</th>\n",
       "        </tr>\n",
       "    </thead>\n",
       "    <tbody>\n",
       "        <tr>\n",
       "            <td>41  </td> <td>Donyell Marshall </td> <td>PF      </td> <td>Golden State Warriors</td> <td>5250000</td> <td>2000  </td>\n",
       "        </tr>\n",
       "        <tr>\n",
       "            <td>47  </td> <td>Erick Dampier    </td> <td>C       </td> <td>Golden State Warriors</td> <td>4988000</td> <td>2000  </td>\n",
       "        </tr>\n",
       "        <tr>\n",
       "            <td>58  </td> <td>Mookie Blaylock  </td> <td>G       </td> <td>Golden State Warriors</td> <td>4200000</td> <td>2000  </td>\n",
       "        </tr>\n",
       "        <tr>\n",
       "            <td>59  </td> <td>Chris Mills      </td> <td>SF      </td> <td>Golden State Warriors</td> <td>4200000</td> <td>2000  </td>\n",
       "        </tr>\n",
       "        <tr>\n",
       "            <td>64  </td> <td>Jason Caffey     </td> <td>F       </td> <td>Golden State Warriors</td> <td>3937000</td> <td>2000  </td>\n",
       "        </tr>\n",
       "        <tr>\n",
       "            <td>89  </td> <td>Vonteego Cummings</td> <td>PG      </td> <td>Golden State Warriors</td> <td>2600000</td> <td>2000  </td>\n",
       "        </tr>\n",
       "        <tr>\n",
       "            <td>92  </td> <td>Antawn Jamison   </td> <td>PF      </td> <td>Golden State Warriors</td> <td>2503000</td> <td>2000  </td>\n",
       "        </tr>\n",
       "        <tr>\n",
       "            <td>73  </td> <td>Erick Dampier    </td> <td>C       </td> <td>Golden State Warriors</td> <td>5611000</td> <td>2001  </td>\n",
       "        </tr>\n",
       "        <tr>\n",
       "            <td>91  </td> <td>Mookie Blaylock  </td> <td>G       </td> <td>Golden State Warriors</td> <td>4800000</td> <td>2001  </td>\n",
       "        </tr>\n",
       "        <tr>\n",
       "            <td>92  </td> <td>Chris Mills      </td> <td>SF      </td> <td>Golden State Warriors</td> <td>4800000</td> <td>2001  </td>\n",
       "        </tr>\n",
       "    </tbody>\n",
       "</table>\n",
       "<p>... (301 rows omitted)</p>"
      ],
      "text/plain": [
       "rank | name              | position | team                  | SALARY  | season\n",
       "41   | Donyell Marshall  | PF       | Golden State Warriors | 5250000 | 2000\n",
       "47   | Erick Dampier     | C        | Golden State Warriors | 4988000 | 2000\n",
       "58   | Mookie Blaylock   | G        | Golden State Warriors | 4200000 | 2000\n",
       "59   | Chris Mills       | SF       | Golden State Warriors | 4200000 | 2000\n",
       "64   | Jason Caffey      | F        | Golden State Warriors | 3937000 | 2000\n",
       "89   | Vonteego Cummings | PG       | Golden State Warriors | 2600000 | 2000\n",
       "92   | Antawn Jamison    | PF       | Golden State Warriors | 2503000 | 2000\n",
       "73   | Erick Dampier     | C        | Golden State Warriors | 5611000 | 2001\n",
       "91   | Mookie Blaylock   | G        | Golden State Warriors | 4800000 | 2001\n",
       "92   | Chris Mills       | SF       | Golden State Warriors | 4800000 | 2001\n",
       "... (301 rows omitted)"
      ]
     },
     "execution_count": 3,
     "metadata": {},
     "output_type": "execute_result"
    }
   ],
   "source": [
    "warriors"
   ]
  },
  {
   "cell_type": "code",
   "execution_count": 24,
   "id": "9fddc086",
   "metadata": {},
   "outputs": [
    {
     "data": {
      "text/html": [
       "<table border=\"1\" class=\"dataframe\">\n",
       "    <thead>\n",
       "        <tr>\n",
       "            <th>SALARY</th>\n",
       "        </tr>\n",
       "    </thead>\n",
       "    <tbody>\n",
       "        <tr>\n",
       "            <td>5250000</td>\n",
       "        </tr>\n",
       "        <tr>\n",
       "            <td>4988000</td>\n",
       "        </tr>\n",
       "        <tr>\n",
       "            <td>4200000</td>\n",
       "        </tr>\n",
       "        <tr>\n",
       "            <td>4200000</td>\n",
       "        </tr>\n",
       "        <tr>\n",
       "            <td>3937000</td>\n",
       "        </tr>\n",
       "        <tr>\n",
       "            <td>2600000</td>\n",
       "        </tr>\n",
       "        <tr>\n",
       "            <td>2503000</td>\n",
       "        </tr>\n",
       "        <tr>\n",
       "            <td>5611000</td>\n",
       "        </tr>\n",
       "        <tr>\n",
       "            <td>4800000</td>\n",
       "        </tr>\n",
       "        <tr>\n",
       "            <td>4800000</td>\n",
       "        </tr>\n",
       "    </tbody>\n",
       "</table>\n",
       "<p>... (301 rows omitted)</p>"
      ],
      "text/plain": [
       "SALARY\n",
       "5250000\n",
       "4988000\n",
       "4200000\n",
       "4200000\n",
       "3937000\n",
       "2600000\n",
       "2503000\n",
       "5611000\n",
       "4800000\n",
       "4800000\n",
       "... (301 rows omitted)"
      ]
     },
     "execution_count": 24,
     "metadata": {},
     "output_type": "execute_result"
    }
   ],
   "source": [
    "salary_select = warriors.select('SALARY')\n",
    "salary_select"
   ]
  },
  {
   "cell_type": "code",
   "execution_count": 25,
   "id": "30f15bf4",
   "metadata": {
    "trusted": false
   },
   "outputs": [
    {
     "data": {
      "text/plain": [
       "datascience.tables.Table"
      ]
     },
     "execution_count": 25,
     "metadata": {},
     "output_type": "execute_result"
    }
   ],
   "source": [
    "type(salary_select)\n",
    "# Returns a column in a table format"
   ]
  },
  {
   "cell_type": "code",
   "execution_count": 29,
   "id": "1113f3d9",
   "metadata": {
    "trusted": false
   },
   "outputs": [
    {
     "data": {
      "text/plain": [
       "array([ 5250000,  4988000,  4200000,  4200000,  3937000,  2600000,\n",
       "        2503000,  5611000,  4800000,  4800000,  4386000,  3578000,\n",
       "        3390000,  2678000,  1842000,   757000,   316000,   316000,\n",
       "         241000,    32000,  6235000,  5400000,  5400000,  4913000,\n",
       "        4441000,  4400000,  3388000,  3000000,  2343000,  2021000,\n",
       "        1310000,   333000,   333000,  6858000,  6000000,  5540000,\n",
       "        4935000,  4469000,  4400000,  1409000,   700000,   512000,\n",
       "       10912000,  7482000,  5445000,  4400000,  1667000,  1507000,\n",
       "        3000000,  2481000,  2390000,  2232000, 13700000,  8888888,\n",
       "        7365079,  7312500,  5393300,  4506261,  1988160,  1910520,\n",
       "        1857360,  1760000,  1404360,   448762,   423762, 15070000,\n",
       "        9999999,  8125000,  2535260,  2157097,  2061720,  1986960,\n",
       "         798112,   744551,   664209,   259770, 16440000,  8425625,\n",
       "        6630000,  4000000,  3470771,  3000000,  2636696,  2323080,\n",
       "        2216400,  1800000,  1345800,   770610,   770610,   687456,\n",
       "         358107,   251272, 11000000,  9000000,  8275862,  7140000,\n",
       "        4500000,  2900000,  2497320,  1709280,  1634000,  1446720,\n",
       "        1262520,   797581,   711517,   711517,   442114,   442114,\n",
       "         442114,   422725, 11000000,  9000000,  8937931,  4140000,\n",
       "        3100000,  2710560,  1837560,  1600000,  1000497,   855189,\n",
       "         825497,   825497,   736420,   632455,   118435,    17328,\n",
       "       11000000, 10800000,  9000000,  6883800,  4447792,  3540000,\n",
       "        3065040,  2913840,  2225000,  1254720,   855189,   854389,\n",
       "         825497,   825497,   762195,   762195,   473604,   133723,\n",
       "       11610000,  9000000,  6750000,  4099920,  3823000,  3117120,\n",
       "        2956658,  2126520,  1027424,   855189,   854389,   854389,\n",
       "         854389,   825497,   785487,   650000,   633253,   473604,\n",
       "         473604,   211084,    75793, 13000000, 12744000, 10164000,\n",
       "        9000000,  5400000,  4099920,  4000000,  4000000,  3958742,\n",
       "        2798040,  2222160,  1020960,   884293,   854389,   854389,\n",
       "         854389,   850000,   825497,   762195,   633253,   473604,\n",
       "         211084,    75793, 14000000, 13878000, 12868632,  9887642,\n",
       "        3500000,  2923920,  2317920,  2162419,  2000000,  1056720,\n",
       "         875500,   660619,   490180, 15012000, 12972973, 12289544,\n",
       "       10629213,  5305000,  3657500,  3075880,  3049920,  1145685,\n",
       "        1145685,  1112880,  1104240,   915243,   915243,   816482,\n",
       "         816482,   816482,   167122, 15501000, 14260870, 13800000,\n",
       "       11710456, 11370786,  5543725,  3873398,  3815000,  2500000,\n",
       "        2008748,  1270964,  1131960,   947276,   947276,   845059,\n",
       "         289755, 26540100, 16663575, 15330435, 12112359, 11131368,\n",
       "        5782450,  2898000,  1403611,  1182840,  1171560,   980431,\n",
       "         980431,   980431,   980431,   980431,   980431,   980431,\n",
       "         543471,   543471,   543471,   543471,   543471, 37457154,\n",
       "       17826150, 17469565, 14814815,  7692308,  5192000,  3477600,\n",
       "        1544951,  1471382,  1471382,  1471382,  1471382,  1378242,\n",
       "        1312611,  1312611,  1312611,  1312611,   980431,   980431,\n",
       "         980431,   980431,   815615,   543471,   543471,   543471,\n",
       "         543471, 37457154, 30000000, 18988725, 17469565, 16000000,\n",
       "        8307692,  5337000,  1644240,  1544951,  1544951,  1512601,\n",
       "        1512601,  1378242,  1349383,   307648, 40231758, 32742000,\n",
       "       18539130,  4464226,  2177483,  1964760,  1897800,   898310,\n",
       "         898310,   842327,   654469,   350189,   350189])"
      ]
     },
     "execution_count": 29,
     "metadata": {},
     "output_type": "execute_result"
    }
   ],
   "source": [
    "salary_col = warriors.column('SALARY')\n",
    "salary_col\n"
   ]
  },
  {
   "cell_type": "code",
   "execution_count": 30,
   "id": "541cfc49",
   "metadata": {},
   "outputs": [
    {
     "data": {
      "text/plain": [
       "numpy.ndarray"
      ]
     },
     "execution_count": 30,
     "metadata": {},
     "output_type": "execute_result"
    }
   ],
   "source": [
    "type(salary_col)"
   ]
  },
  {
   "cell_type": "code",
   "execution_count": 32,
   "id": "a381704a",
   "metadata": {
    "trusted": false
   },
   "outputs": [],
   "source": [
    "# np.average(salary_select)\n",
    "# can't call numpy function on tables"
   ]
  },
  {
   "cell_type": "code",
   "execution_count": 33,
   "id": "6b144667",
   "metadata": {
    "trusted": false
   },
   "outputs": [
    {
     "data": {
      "text/plain": [
       "4315935.9228295824"
      ]
     },
     "execution_count": 33,
     "metadata": {},
     "output_type": "execute_result"
    }
   ],
   "source": [
    "np.average(salary_col)"
   ]
  },
  {
   "cell_type": "code",
   "execution_count": 36,
   "id": "b077a227",
   "metadata": {
    "trusted": false
   },
   "outputs": [
    {
     "data": {
      "text/plain": [
       "array([4200000, 4800000, 5400000, 6000000])"
      ]
     },
     "execution_count": 36,
     "metadata": {},
     "output_type": "execute_result"
    }
   ],
   "source": [
    "mills_salary_table = warriors.where('name', 'Chris Mills')\n",
    "mills_salary_array = mills_salary_table.column('SALARY')\n",
    "mills_salary_array"
   ]
  },
  {
   "cell_type": "code",
   "execution_count": 37,
   "id": "b79a9da4",
   "metadata": {},
   "outputs": [
    {
     "data": {
      "text/plain": [
       "5100000.0"
      ]
     },
     "execution_count": 37,
     "metadata": {},
     "output_type": "execute_result"
    }
   ],
   "source": [
    "np.average(mills_salary_array)"
   ]
  },
  {
   "cell_type": "code",
   "execution_count": 40,
   "id": "b26baedf",
   "metadata": {
    "trusted": false
   },
   "outputs": [
    {
     "data": {
      "text/plain": [
       "4200000"
      ]
     },
     "execution_count": 40,
     "metadata": {},
     "output_type": "execute_result"
    }
   ],
   "source": [
    "warriors.where('name', 'Chris Mills').column('SALARY').item(0)"
   ]
  },
  {
   "cell_type": "markdown",
   "id": "f296f9bf",
   "metadata": {},
   "source": [
    "## Census ##"
   ]
  },
  {
   "cell_type": "code",
   "execution_count": 41,
   "id": "bd749b75",
   "metadata": {
    "trusted": false
   },
   "outputs": [
    {
     "data": {
      "text/html": [
       "<table border=\"1\" class=\"dataframe\">\n",
       "    <thead>\n",
       "        <tr>\n",
       "            <th>SEX</th> <th>AGE</th> <th>CENSUS2010POP</th> <th>ESTIMATESBASE2010</th> <th>POPESTIMATE2010</th> <th>POPESTIMATE2011</th> <th>POPESTIMATE2012</th> <th>POPESTIMATE2013</th> <th>POPESTIMATE2014</th> <th>POPESTIMATE2015</th> <th>POPESTIMATE2016</th> <th>POPESTIMATE2017</th> <th>POPESTIMATE2018</th> <th>POPESTIMATE2019</th>\n",
       "        </tr>\n",
       "    </thead>\n",
       "    <tbody>\n",
       "        <tr>\n",
       "            <td>0   </td> <td>0   </td> <td>3944153      </td> <td>3944160          </td> <td>3951430        </td> <td>3963092        </td> <td>3926570        </td> <td>3931258        </td> <td>3954787        </td> <td>3983981        </td> <td>3954773        </td> <td>3893990        </td> <td>3815343        </td> <td>3783052        </td>\n",
       "        </tr>\n",
       "        <tr>\n",
       "            <td>0   </td> <td>1   </td> <td>3978070      </td> <td>3978090          </td> <td>3957730        </td> <td>3966225        </td> <td>3977549        </td> <td>3942698        </td> <td>3948891        </td> <td>3973133        </td> <td>4002903        </td> <td>3972711        </td> <td>3908830        </td> <td>3829599        </td>\n",
       "        </tr>\n",
       "        <tr>\n",
       "            <td>0   </td> <td>2   </td> <td>4096929      </td> <td>4096939          </td> <td>4090621        </td> <td>3970654        </td> <td>3978925        </td> <td>3991740        </td> <td>3958711        </td> <td>3966321        </td> <td>3991349        </td> <td>4020045        </td> <td>3987032        </td> <td>3922044        </td>\n",
       "        </tr>\n",
       "        <tr>\n",
       "            <td>0   </td> <td>3   </td> <td>4119040      </td> <td>4119051          </td> <td>4111688        </td> <td>4101644        </td> <td>3981531        </td> <td>3991017        </td> <td>4005928        </td> <td>3974351        </td> <td>3982984        </td> <td>4006946        </td> <td>4033038        </td> <td>3998665        </td>\n",
       "        </tr>\n",
       "        <tr>\n",
       "            <td>0   </td> <td>4   </td> <td>4063170      </td> <td>4063186          </td> <td>4077346        </td> <td>4121488        </td> <td>4111490        </td> <td>3992502        </td> <td>4004032        </td> <td>4020292        </td> <td>3989750        </td> <td>3997280        </td> <td>4018719        </td> <td>4043323        </td>\n",
       "        </tr>\n",
       "        <tr>\n",
       "            <td>0   </td> <td>5   </td> <td>4056858      </td> <td>4056872          </td> <td>4064521        </td> <td>4087054        </td> <td>4131049        </td> <td>4121876        </td> <td>4004576        </td> <td>4017589        </td> <td>4035033        </td> <td>4003452        </td> <td>4008443        </td> <td>4028281        </td>\n",
       "        </tr>\n",
       "        <tr>\n",
       "            <td>0   </td> <td>6   </td> <td>4066381      </td> <td>4066412          </td> <td>4072904        </td> <td>4074531        </td> <td>4096631        </td> <td>4141126        </td> <td>4133372        </td> <td>4017388        </td> <td>4031568        </td> <td>4048018        </td> <td>4014057        </td> <td>4017227        </td>\n",
       "        </tr>\n",
       "        <tr>\n",
       "            <td>0   </td> <td>7   </td> <td>4030579      </td> <td>4030594          </td> <td>4042990        </td> <td>4082821        </td> <td>4084175        </td> <td>4106756        </td> <td>4152666        </td> <td>4145872        </td> <td>4030888        </td> <td>4044139        </td> <td>4058370        </td> <td>4022319        </td>\n",
       "        </tr>\n",
       "        <tr>\n",
       "            <td>0   </td> <td>8   </td> <td>4046486      </td> <td>4046497          </td> <td>4025501        </td> <td>4052773        </td> <td>4092559        </td> <td>4094513        </td> <td>4118349        </td> <td>4165033        </td> <td>4158848        </td> <td>4042924        </td> <td>4054236        </td> <td>4066194        </td>\n",
       "        </tr>\n",
       "        <tr>\n",
       "            <td>0   </td> <td>9   </td> <td>4148353      </td> <td>4148369          </td> <td>4125312        </td> <td>4035319        </td> <td>4062726        </td> <td>4103052        </td> <td>4106068        </td> <td>4130887        </td> <td>4177895        </td> <td>4170813        </td> <td>4053179        </td> <td>4061874        </td>\n",
       "        </tr>\n",
       "    </tbody>\n",
       "</table>\n",
       "<p>... (296 rows omitted)</p>"
      ],
      "text/plain": [
       "SEX  | AGE  | CENSUS2010POP | ESTIMATESBASE2010 | POPESTIMATE2010 | POPESTIMATE2011 | POPESTIMATE2012 | POPESTIMATE2013 | POPESTIMATE2014 | POPESTIMATE2015 | POPESTIMATE2016 | POPESTIMATE2017 | POPESTIMATE2018 | POPESTIMATE2019\n",
       "0    | 0    | 3944153       | 3944160           | 3951430         | 3963092         | 3926570         | 3931258         | 3954787         | 3983981         | 3954773         | 3893990         | 3815343         | 3783052\n",
       "0    | 1    | 3978070       | 3978090           | 3957730         | 3966225         | 3977549         | 3942698         | 3948891         | 3973133         | 4002903         | 3972711         | 3908830         | 3829599\n",
       "0    | 2    | 4096929       | 4096939           | 4090621         | 3970654         | 3978925         | 3991740         | 3958711         | 3966321         | 3991349         | 4020045         | 3987032         | 3922044\n",
       "0    | 3    | 4119040       | 4119051           | 4111688         | 4101644         | 3981531         | 3991017         | 4005928         | 3974351         | 3982984         | 4006946         | 4033038         | 3998665\n",
       "0    | 4    | 4063170       | 4063186           | 4077346         | 4121488         | 4111490         | 3992502         | 4004032         | 4020292         | 3989750         | 3997280         | 4018719         | 4043323\n",
       "0    | 5    | 4056858       | 4056872           | 4064521         | 4087054         | 4131049         | 4121876         | 4004576         | 4017589         | 4035033         | 4003452         | 4008443         | 4028281\n",
       "0    | 6    | 4066381       | 4066412           | 4072904         | 4074531         | 4096631         | 4141126         | 4133372         | 4017388         | 4031568         | 4048018         | 4014057         | 4017227\n",
       "0    | 7    | 4030579       | 4030594           | 4042990         | 4082821         | 4084175         | 4106756         | 4152666         | 4145872         | 4030888         | 4044139         | 4058370         | 4022319\n",
       "0    | 8    | 4046486       | 4046497           | 4025501         | 4052773         | 4092559         | 4094513         | 4118349         | 4165033         | 4158848         | 4042924         | 4054236         | 4066194\n",
       "0    | 9    | 4148353       | 4148369           | 4125312         | 4035319         | 4062726         | 4103052         | 4106068         | 4130887         | 4177895         | 4170813         | 4053179         | 4061874\n",
       "... (296 rows omitted)"
      ]
     },
     "execution_count": 41,
     "metadata": {},
     "output_type": "execute_result"
    }
   ],
   "source": [
    "full = Table.read_table('nc-est2019-agesex-res.csv')\n",
    "full"
   ]
  },
  {
   "cell_type": "code",
   "execution_count": 42,
   "id": "62a30d43",
   "metadata": {},
   "outputs": [
    {
     "data": {
      "text/html": [
       "<table border=\"1\" class=\"dataframe\">\n",
       "    <thead>\n",
       "        <tr>\n",
       "            <th>SEX</th> <th>AGE</th> <th>CENSUS2010POP</th> <th>POPESTIMATE2011</th>\n",
       "        </tr>\n",
       "    </thead>\n",
       "    <tbody>\n",
       "        <tr>\n",
       "            <td>0   </td> <td>0   </td> <td>3944153      </td> <td>3963092        </td>\n",
       "        </tr>\n",
       "        <tr>\n",
       "            <td>0   </td> <td>1   </td> <td>3978070      </td> <td>3966225        </td>\n",
       "        </tr>\n",
       "        <tr>\n",
       "            <td>0   </td> <td>2   </td> <td>4096929      </td> <td>3970654        </td>\n",
       "        </tr>\n",
       "        <tr>\n",
       "            <td>0   </td> <td>3   </td> <td>4119040      </td> <td>4101644        </td>\n",
       "        </tr>\n",
       "        <tr>\n",
       "            <td>0   </td> <td>4   </td> <td>4063170      </td> <td>4121488        </td>\n",
       "        </tr>\n",
       "        <tr>\n",
       "            <td>0   </td> <td>5   </td> <td>4056858      </td> <td>4087054        </td>\n",
       "        </tr>\n",
       "        <tr>\n",
       "            <td>0   </td> <td>6   </td> <td>4066381      </td> <td>4074531        </td>\n",
       "        </tr>\n",
       "        <tr>\n",
       "            <td>0   </td> <td>7   </td> <td>4030579      </td> <td>4082821        </td>\n",
       "        </tr>\n",
       "        <tr>\n",
       "            <td>0   </td> <td>8   </td> <td>4046486      </td> <td>4052773        </td>\n",
       "        </tr>\n",
       "        <tr>\n",
       "            <td>0   </td> <td>9   </td> <td>4148353      </td> <td>4035319        </td>\n",
       "        </tr>\n",
       "    </tbody>\n",
       "</table>\n",
       "<p>... (296 rows omitted)</p>"
      ],
      "text/plain": [
       "SEX  | AGE  | CENSUS2010POP | POPESTIMATE2011\n",
       "0    | 0    | 3944153       | 3963092\n",
       "0    | 1    | 3978070       | 3966225\n",
       "0    | 2    | 4096929       | 3970654\n",
       "0    | 3    | 4119040       | 4101644\n",
       "0    | 4    | 4063170       | 4121488\n",
       "0    | 5    | 4056858       | 4087054\n",
       "0    | 6    | 4066381       | 4074531\n",
       "0    | 7    | 4030579       | 4082821\n",
       "0    | 8    | 4046486       | 4052773\n",
       "0    | 9    | 4148353       | 4035319\n",
       "... (296 rows omitted)"
      ]
     },
     "execution_count": 42,
     "metadata": {},
     "output_type": "execute_result"
    }
   ],
   "source": [
    "one_year_growth = full.select('SEX', 'AGE', 'CENSUS2010POP', 'POPESTIMATE2011')\n",
    "one_year_growth"
   ]
  },
  {
   "cell_type": "code",
   "execution_count": 43,
   "id": "2053a1fa",
   "metadata": {},
   "outputs": [
    {
     "data": {
      "text/html": [
       "<table border=\"1\" class=\"dataframe\">\n",
       "    <thead>\n",
       "        <tr>\n",
       "            <th>SEX</th> <th>AGE</th> <th>CENSUS2010POP</th> <th>POPESTIMATE2011</th>\n",
       "        </tr>\n",
       "    </thead>\n",
       "    <tbody>\n",
       "        <tr>\n",
       "            <td>0   </td> <td>0   </td> <td>3944153      </td> <td>3963092        </td>\n",
       "        </tr>\n",
       "        <tr>\n",
       "            <td>0   </td> <td>1   </td> <td>3978070      </td> <td>3966225        </td>\n",
       "        </tr>\n",
       "        <tr>\n",
       "            <td>0   </td> <td>2   </td> <td>4096929      </td> <td>3970654        </td>\n",
       "        </tr>\n",
       "        <tr>\n",
       "            <td>0   </td> <td>3   </td> <td>4119040      </td> <td>4101644        </td>\n",
       "        </tr>\n",
       "        <tr>\n",
       "            <td>0   </td> <td>4   </td> <td>4063170      </td> <td>4121488        </td>\n",
       "        </tr>\n",
       "        <tr>\n",
       "            <td>0   </td> <td>5   </td> <td>4056858      </td> <td>4087054        </td>\n",
       "        </tr>\n",
       "        <tr>\n",
       "            <td>0   </td> <td>6   </td> <td>4066381      </td> <td>4074531        </td>\n",
       "        </tr>\n",
       "        <tr>\n",
       "            <td>0   </td> <td>7   </td> <td>4030579      </td> <td>4082821        </td>\n",
       "        </tr>\n",
       "        <tr>\n",
       "            <td>0   </td> <td>8   </td> <td>4046486      </td> <td>4052773        </td>\n",
       "        </tr>\n",
       "        <tr>\n",
       "            <td>0   </td> <td>9   </td> <td>4148353      </td> <td>4035319        </td>\n",
       "        </tr>\n",
       "    </tbody>\n",
       "</table>\n",
       "<p>... (92 rows omitted)</p>"
      ],
      "text/plain": [
       "SEX  | AGE  | CENSUS2010POP | POPESTIMATE2011\n",
       "0    | 0    | 3944153       | 3963092\n",
       "0    | 1    | 3978070       | 3966225\n",
       "0    | 2    | 4096929       | 3970654\n",
       "0    | 3    | 4119040       | 4101644\n",
       "0    | 4    | 4063170       | 4121488\n",
       "0    | 5    | 4056858       | 4087054\n",
       "0    | 6    | 4066381       | 4074531\n",
       "0    | 7    | 4030579       | 4082821\n",
       "0    | 8    | 4046486       | 4052773\n",
       "0    | 9    | 4148353       | 4035319\n",
       "... (92 rows omitted)"
      ]
     },
     "execution_count": 43,
     "metadata": {},
     "output_type": "execute_result"
    }
   ],
   "source": [
    "one_year_growth = one_year_growth.where('SEX', 0)\n",
    "one_year_growth"
   ]
  },
  {
   "cell_type": "code",
   "execution_count": 14,
   "id": "389bac9b",
   "metadata": {},
   "outputs": [
    {
     "data": {
      "text/html": [
       "<table border=\"1\" class=\"dataframe\">\n",
       "    <thead>\n",
       "        <tr>\n",
       "            <th>AGE</th> <th>CENSUS2010POP</th> <th>POPESTIMATE2011</th>\n",
       "        </tr>\n",
       "    </thead>\n",
       "    <tbody>\n",
       "        <tr>\n",
       "            <td>0   </td> <td>3944153      </td> <td>3963092        </td>\n",
       "        </tr>\n",
       "        <tr>\n",
       "            <td>1   </td> <td>3978070      </td> <td>3966225        </td>\n",
       "        </tr>\n",
       "        <tr>\n",
       "            <td>2   </td> <td>4096929      </td> <td>3970654        </td>\n",
       "        </tr>\n",
       "        <tr>\n",
       "            <td>3   </td> <td>4119040      </td> <td>4101644        </td>\n",
       "        </tr>\n",
       "        <tr>\n",
       "            <td>4   </td> <td>4063170      </td> <td>4121488        </td>\n",
       "        </tr>\n",
       "        <tr>\n",
       "            <td>5   </td> <td>4056858      </td> <td>4087054        </td>\n",
       "        </tr>\n",
       "        <tr>\n",
       "            <td>6   </td> <td>4066381      </td> <td>4074531        </td>\n",
       "        </tr>\n",
       "        <tr>\n",
       "            <td>7   </td> <td>4030579      </td> <td>4082821        </td>\n",
       "        </tr>\n",
       "        <tr>\n",
       "            <td>8   </td> <td>4046486      </td> <td>4052773        </td>\n",
       "        </tr>\n",
       "        <tr>\n",
       "            <td>9   </td> <td>4148353      </td> <td>4035319        </td>\n",
       "        </tr>\n",
       "    </tbody>\n",
       "</table>\n",
       "<p>... (92 rows omitted)</p>"
      ],
      "text/plain": [
       "AGE  | CENSUS2010POP | POPESTIMATE2011\n",
       "0    | 3944153       | 3963092\n",
       "1    | 3978070       | 3966225\n",
       "2    | 4096929       | 3970654\n",
       "3    | 4119040       | 4101644\n",
       "4    | 4063170       | 4121488\n",
       "5    | 4056858       | 4087054\n",
       "6    | 4066381       | 4074531\n",
       "7    | 4030579       | 4082821\n",
       "8    | 4046486       | 4052773\n",
       "9    | 4148353       | 4035319\n",
       "... (92 rows omitted)"
      ]
     },
     "execution_count": 14,
     "metadata": {},
     "output_type": "execute_result"
    }
   ],
   "source": [
    "one_year_growth = one_year_growth.drop('SEX')\n",
    "one_year_growth"
   ]
  },
  {
   "cell_type": "code",
   "execution_count": 15,
   "id": "988c2ddd",
   "metadata": {},
   "outputs": [
    {
     "data": {
      "text/plain": [
       "array([  3944153,   3978070,   4096929,   4119040,   4063170,   4056858,\n",
       "         4066381,   4030579,   4046486,   4148353,   4172541,   4114415,\n",
       "         4106243,   4118013,   4165982,   4242820,   4316139,   4395295,\n",
       "         4500855,   4585234,   4519129,   4354294,   4264642,   4198571,\n",
       "         4249363,   4262350,   4152305,   4248869,   4215249,   4223076,\n",
       "         4285668,   3970218,   3986847,   3880150,   3839216,   3956434,\n",
       "         3802087,   3934445,   4121880,   4364796,   4383274,   4114985,\n",
       "         4076104,   4105105,   4211496,   4508868,   4519761,   4535265,\n",
       "         4538796,   4605901,   4660295,   4464631,   4500846,   4380354,\n",
       "         4291999,   4254709,   4037513,   3936386,   3794928,   3641269,\n",
       "         3621131,   3492596,   3563182,   3483884,   2657131,   2680761,\n",
       "         2639141,   2649365,   2323672,   2142324,   2043121,   1949323,\n",
       "         1864275,   1736960,   1684487,   1620077,   1471070,   1455330,\n",
       "         1400123,   1371195,   1308511,   1212865,   1161421,   1074809,\n",
       "          985721,    914723,    814211,    712908,    640619,    537998,\n",
       "          435563,    344987,    281389,    216978,    169449,    129717,\n",
       "           95223,     68138,     45900,     32266,     53364, 308745538])"
      ]
     },
     "execution_count": 15,
     "metadata": {},
     "output_type": "execute_result"
    }
   ],
   "source": [
    "pop2010 = one_year_growth.column('CENSUS2010POP')\n",
    "pop2010\n"
   ]
  },
  {
   "cell_type": "code",
   "execution_count": 16,
   "id": "fd950fb7",
   "metadata": {},
   "outputs": [
    {
     "data": {
      "text/plain": [
       "array([  3963092,   3966225,   3970654,   4101644,   4121488,   4087054,\n",
       "         4074531,   4082821,   4052773,   4035319,   4135275,   4197127,\n",
       "         4125724,   4123811,   4130861,   4158280,   4246693,   4334152,\n",
       "         4401220,   4518136,   4598087,   4594046,   4412989,   4312071,\n",
       "         4242005,   4267715,   4311460,   4181235,   4255887,   4264231,\n",
       "         4224904,   4316834,   4053130,   3977087,   3941571,   3829296,\n",
       "         3953574,   3834160,   3899275,   4081727,   4323492,   4384667,\n",
       "         4160003,   4078457,   4088648,   4171392,   4429559,   4518765,\n",
       "         4522525,   4519850,   4582117,   4627614,   4478988,   4458856,\n",
       "         4416050,   4263777,   4233221,   4066454,   3918867,   3773861,\n",
       "         3664938,   3586380,   3487750,   3459686,   3612778,   2674388,\n",
       "         2644949,   2585082,   2652967,   2320909,   2128978,   2022302,\n",
       "         1911768,   1839617,   1705176,   1638392,   1581264,   1430846,\n",
       "         1394624,   1343872,   1292555,   1252415,   1143567,   1084658,\n",
       "         1004493,    908494,    834114,    740788,    642674,    559656,\n",
       "          473596,    382497,    289188,    238035,    176717,    135101,\n",
       "          101295,     73267,     50654,     33604,     57513, 311556874])"
      ]
     },
     "execution_count": 16,
     "metadata": {},
     "output_type": "execute_result"
    }
   ],
   "source": [
    "est2011 = one_year_growth.column('POPESTIMATE2011')\n",
    "est2011"
   ]
  },
  {
   "cell_type": "code",
   "execution_count": 17,
   "id": "1521bccb",
   "metadata": {},
   "outputs": [
    {
     "data": {
      "text/plain": [
       "array([  0.48017914,  -0.29775746,  -3.08218668,  -0.42233142,\n",
       "         1.43528329,   0.74431987,   0.20042392,   1.29614132,\n",
       "         0.15536937,  -2.72479222,  -0.89312484,   2.01029794,\n",
       "         0.47442394,   0.14079606,  -0.84304253,  -1.9925427 ,\n",
       "        -1.60898433,  -1.39110117,  -2.21369051,  -1.46334953,\n",
       "         1.74719509,   5.50610501,   3.47853349,   2.70330072,\n",
       "        -0.17315536,   0.12586953,   3.83293135,  -1.59181184,\n",
       "         0.96407116,   0.97452662,  -1.41784198,   8.73040221,\n",
       "         1.66254185,   2.49827971,   2.66603911,  -3.21344928,\n",
       "         3.98431177,  -2.54889826,  -5.40056964,  -6.48527445,\n",
       "        -1.36386637,   6.55365694,   2.05831353,  -0.64914296,\n",
       "        -2.91696822,  -7.48471678,  -1.995725  ,  -0.36381557,\n",
       "        -0.35848714,  -1.86827724,  -1.67753329,   3.65053685,\n",
       "        -0.48564203,   1.79213826,   2.89028492,   0.21312856,\n",
       "         4.84724136,   3.30424913,   3.26591176,   3.64136789,\n",
       "         1.20976016,   2.68522326,  -2.1169842 ,  -0.69456962,\n",
       "        35.96537017,  -0.237731  ,   0.22007161,  -2.42635499,\n",
       "        14.17132022,   8.33604067,   4.20224744,   3.7438126 ,\n",
       "         2.54753188,   5.91015337,   1.22820776,   1.13050182,\n",
       "         7.49073803,  -1.68236757,  -0.39275121,  -1.99264146,\n",
       "        -1.21940129,   3.26087405,  -1.53725479,   0.91634886,\n",
       "         1.90439283,  -0.68097118,   2.44445236,   3.91074304,\n",
       "         0.32078349,   4.02566552,   8.73191708,  10.87287347,\n",
       "         2.77160799,   9.70467052,   4.28919616,   4.15057394,\n",
       "         6.37661069,   7.52737092,  10.35729847,   4.14677989,\n",
       "         7.77490443,   0.91056733])"
      ]
     },
     "execution_count": 17,
     "metadata": {},
     "output_type": "execute_result"
    }
   ],
   "source": [
    "percent_growth = ((est2011 / pop2010) - 1) * 100\n",
    "percent_growth"
   ]
  },
  {
   "cell_type": "code",
   "execution_count": 18,
   "id": "e6a6ba0c",
   "metadata": {},
   "outputs": [
    {
     "data": {
      "text/html": [
       "<table border=\"1\" class=\"dataframe\">\n",
       "    <thead>\n",
       "        <tr>\n",
       "            <th>AGE</th> <th>CENSUS2010POP</th> <th>POPESTIMATE2011</th> <th>%_POINTS_GROWTH</th>\n",
       "        </tr>\n",
       "    </thead>\n",
       "    <tbody>\n",
       "        <tr>\n",
       "            <td>0   </td> <td>3944153      </td> <td>3963092        </td> <td>0.480179       </td>\n",
       "        </tr>\n",
       "        <tr>\n",
       "            <td>1   </td> <td>3978070      </td> <td>3966225        </td> <td>-0.297757      </td>\n",
       "        </tr>\n",
       "        <tr>\n",
       "            <td>2   </td> <td>4096929      </td> <td>3970654        </td> <td>-3.08219       </td>\n",
       "        </tr>\n",
       "        <tr>\n",
       "            <td>3   </td> <td>4119040      </td> <td>4101644        </td> <td>-0.422331      </td>\n",
       "        </tr>\n",
       "        <tr>\n",
       "            <td>4   </td> <td>4063170      </td> <td>4121488        </td> <td>1.43528        </td>\n",
       "        </tr>\n",
       "        <tr>\n",
       "            <td>5   </td> <td>4056858      </td> <td>4087054        </td> <td>0.74432        </td>\n",
       "        </tr>\n",
       "        <tr>\n",
       "            <td>6   </td> <td>4066381      </td> <td>4074531        </td> <td>0.200424       </td>\n",
       "        </tr>\n",
       "        <tr>\n",
       "            <td>7   </td> <td>4030579      </td> <td>4082821        </td> <td>1.29614        </td>\n",
       "        </tr>\n",
       "        <tr>\n",
       "            <td>8   </td> <td>4046486      </td> <td>4052773        </td> <td>0.155369       </td>\n",
       "        </tr>\n",
       "        <tr>\n",
       "            <td>9   </td> <td>4148353      </td> <td>4035319        </td> <td>-2.72479       </td>\n",
       "        </tr>\n",
       "    </tbody>\n",
       "</table>\n",
       "<p>... (92 rows omitted)</p>"
      ],
      "text/plain": [
       "AGE  | CENSUS2010POP | POPESTIMATE2011 | %_POINTS_GROWTH\n",
       "0    | 3944153       | 3963092         | 0.480179\n",
       "1    | 3978070       | 3966225         | -0.297757\n",
       "2    | 4096929       | 3970654         | -3.08219\n",
       "3    | 4119040       | 4101644         | -0.422331\n",
       "4    | 4063170       | 4121488         | 1.43528\n",
       "5    | 4056858       | 4087054         | 0.74432\n",
       "6    | 4066381       | 4074531         | 0.200424\n",
       "7    | 4030579       | 4082821         | 1.29614\n",
       "8    | 4046486       | 4052773         | 0.155369\n",
       "9    | 4148353       | 4035319         | -2.72479\n",
       "... (92 rows omitted)"
      ]
     },
     "execution_count": 18,
     "metadata": {},
     "output_type": "execute_result"
    }
   ],
   "source": [
    "one_year_growth = one_year_growth.with_column('%_POINTS_GROWTH', percent_growth)\n",
    "one_year_growth"
   ]
  },
  {
   "cell_type": "code",
   "execution_count": null,
   "id": "271ddf8f",
   "metadata": {},
   "outputs": [],
   "source": []
  }
 ],
 "metadata": {
  "kernelspec": {
   "display_name": "Python 3",
   "language": "python",
   "name": "python3"
  },
  "language_info": {
   "codemirror_mode": {
    "name": "ipython",
    "version": 3
   },
   "file_extension": ".py",
   "mimetype": "text/x-python",
   "name": "python",
   "nbconvert_exporter": "python",
   "pygments_lexer": "ipython3",
   "version": "3.12.1"
  }
 },
 "nbformat": 4,
 "nbformat_minor": 5
}
